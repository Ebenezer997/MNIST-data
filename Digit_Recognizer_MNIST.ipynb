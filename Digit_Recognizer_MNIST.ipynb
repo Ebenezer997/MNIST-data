{
  "nbformat": 4,
  "nbformat_minor": 0,
  "metadata": {
    "colab": {
      "name": "Digit Recognizer MNIST.ipynb",
      "provenance": [],
      "collapsed_sections": [],
      "authorship_tag": "ABX9TyPoWIeSV3NSdb7KIY0W4EIZ",
      "include_colab_link": true
    },
    "kernelspec": {
      "name": "python3",
      "display_name": "Python 3"
    },
    "accelerator": "GPU"
  },
  "cells": [
    {
      "cell_type": "markdown",
      "metadata": {
        "id": "view-in-github",
        "colab_type": "text"
      },
      "source": [
        "<a href=\"https://colab.research.google.com/github/Ebenezer997/MNIST-data/blob/main/Digit_Recognizer_MNIST.ipynb\" target=\"_parent\"><img src=\"https://colab.research.google.com/assets/colab-badge.svg\" alt=\"Open In Colab\"/></a>"
      ]
    },
    {
      "cell_type": "markdown",
      "metadata": {
        "id": "9xdYCvJ4g5tm"
      },
      "source": [
        "Digit Recognizer\r\n",
        "Using Fundamentals computer vision with the famous MNIST data"
      ]
    },
    {
      "cell_type": "code",
      "metadata": {
        "id": "dAtk12mZwvRe"
      },
      "source": [
        "#Using the Kaggle API to fetch the dataset for this competition\r\n",
        "!pip install kaggle\r\n",
        "api_token = {\"username\":\"ayisiebenezer\",\"key\":\"0ef07d848287b3359f1a6cf8d13c7960\"}\r\n",
        "import json\r\n",
        "import zipfile\r\n",
        "import os\r\n",
        "!mkdir /root/.kaggle\r\n",
        "!echo '{\"username\":\"USERNAME\",\"key\":\"API_KEY\"}' > /root/.kaggle/kaggle.json\r\n",
        "with open('/root/.kaggle/kaggle.json', 'w') as file:\r\n",
        "    json.dump(api_token, file)\r\n",
        "!kaggle competitions download -c digit-recognizer\r\n"
      ],
      "execution_count": null,
      "outputs": []
    },
    {
      "cell_type": "code",
      "metadata": {
        "id": "Fsc-XT3T45_c"
      },
      "source": [
        "# from google.colab import files\r\n",
        "# files.upload()"
      ],
      "execution_count": null,
      "outputs": []
    },
    {
      "cell_type": "code",
      "metadata": {
        "id": "9zMB4_7h46Sj"
      },
      "source": [
        "# !mkdir /root/.kaggle\r\n",
        "# !cp kaggle.json -/.kaggle/\r\n",
        "\r\n",
        "# !chmod 600 -/.kaggle/kaggle.json\r\n",
        "\r\n",
        "\r\n",
        "\r\n",
        "\r\n",
        "\r\n",
        "# api_token = {\"username\":\"ayisiebenezer\",\"key\":\"0ef07d848287b3359f1a6cf8d13c7960\"}'}\r\n",
        "\r\n",
        "# import json\r\n",
        "# import zipfile\r\n",
        "# import os\r\n",
        "# !mkdir /root/.kaggle\r\n",
        "# !echo '{\"username\": \"USERNAME\",\"key\":\"API_KEY\"}'> /root/.kaggle/kaggle.json\r\n",
        "# with open('/root/.kaggle/kaggle.json','w') as file:\r\n",
        "#      json.dump(api_token, file)\r\n",
        "# !kaggle competitions download -c digit-recognizer"
      ],
      "execution_count": null,
      "outputs": []
    },
    {
      "cell_type": "code",
      "metadata": {
        "colab": {
          "base_uri": "https://localhost:8080/"
        },
        "id": "d1nj0q9v46dx",
        "outputId": "564cce5d-5079-40ca-dc30-271e4ea1b2e4"
      },
      "source": [
        "#Renaming files as certain issues are caused with the default ones\r\n",
        "%%bash\r\n",
        "mv /content/train.csv.zip /content/traincsv.zip\r\n",
        "mv /content/test.csv.zip/ /content/test.csv.zip"
      ],
      "execution_count": null,
      "outputs": [
        {
          "output_type": "stream",
          "text": [
            "mv: cannot stat '/content/test.csv.zip/': Not a directory\n"
          ],
          "name": "stderr"
        }
      ]
    },
    {
      "cell_type": "code",
      "metadata": {
        "id": "fRMDOBYCACCg"
      },
      "source": [
        "#Unzipping training data\r\n",
        "zip_ref = zipfile.ZipFile('/content/traincsv.zip','r')\r\n",
        "zip_ref.extractall()\r\n",
        "zip_ref.close()"
      ],
      "execution_count": null,
      "outputs": []
    },
    {
      "cell_type": "code",
      "metadata": {
        "id": "24T4RcOlBQ0S"
      },
      "source": [
        "#unzipping test data\r\n",
        "zip_ref = zipfile.ZipFile('/content/test.csv.zip','r')\r\n",
        "zip_ref.extractall()\r\n",
        "zip_ref.close()\r\n",
        "\r\n",
        "\r\n"
      ],
      "execution_count": null,
      "outputs": []
    },
    {
      "cell_type": "code",
      "metadata": {
        "id": "8VQASyl-C4IW"
      },
      "source": [
        "#making Dataframes\r\n",
        "import pandas as pd\r\n",
        "test_data = pd.read_csv('/content/test.csv')\r\n",
        "train_data = pd.read_csv('/content/train.csv')\r\n"
      ],
      "execution_count": null,
      "outputs": []
    },
    {
      "cell_type": "code",
      "metadata": {
        "id": "rxTzbtNNEhCM"
      },
      "source": [
        "#importing numpy and tensorflow\r\n",
        "import numpy as np\r\n",
        "import tensorflow as tf"
      ],
      "execution_count": null,
      "outputs": []
    },
    {
      "cell_type": "code",
      "metadata": {
        "id": "PfYCPYQYE580"
      },
      "source": [
        "#Training labels set\r\n",
        "Y_train = train_data[\"label\"]\r\n",
        "\r\n",
        "#Drop 'label' column\r\n",
        "X_train = train_data.drop(labels = [\"label\"],axis = 1)"
      ],
      "execution_count": null,
      "outputs": []
    },
    {
      "cell_type": "code",
      "metadata": {
        "id": "ZNGa3TAGF9vZ"
      },
      "source": [
        "#Normalizing data for better performance\r\n",
        "X_train = X_train/255.0\r\n",
        "test_data = test_data/255.0\r\n",
        "\r\n",
        "#Reshaping Data\r\n",
        "X_train = X_train.values.reshape(-1,28,28,1)\r\n",
        "test_data = test_data.values.reshape(-1,28,28,1)\r\n"
      ],
      "execution_count": null,
      "outputs": []
    },
    {
      "cell_type": "code",
      "metadata": {
        "id": "ymnA-bARNmTY"
      },
      "source": [
        "#Splitting training data for training and validation\r\n",
        "from sklearn.model_selection import train_test_split\r\n",
        "\r\n",
        "X1_train,Y1_train,X2_train,Y2_train=train_test_split(X_train,Y_train,test_size = 0.1, random_state=2)"
      ],
      "execution_count": null,
      "outputs": []
    },
    {
      "cell_type": "code",
      "metadata": {
        "id": "u7cEohDjN0Tg"
      },
      "source": [
        "#model architecture\r\n",
        "model = tf.keras.models.Sequential([tf.keras.layers.Conv2D(64,(3,3), activation='relu', input_shape=(28,28,1)),\r\n",
        " tf.keras.layers.MaxPooling2D(2,2),\r\n",
        " tf.keras.layers.Conv2D(32, (3,3), activation='relu'),\r\n",
        " tf.keras.layers.MaxPooling2D(2,2),\r\n",
        " tf.keras.layers.Conv2D(16, (3,3), activation='relu'),\r\n",
        " tf.keras.layers.MaxPooling2D(2,2),\r\n",
        " tf.keras.layers.Flatten(),\r\n",
        " tf.keras.layers.Dense(128,activation=tf.nn.relu),\r\n",
        " tf.keras.layers.Dropout(0.5),\r\n",
        " tf.keras.layers.Dense(10, activation=tf.nn.softmax)])\r\n",
        "\r\n",
        "model.compile(optimizer='adam',loss = 'sparse_categorical_crossentropy', metrics=['accuracy'])"
      ],
      "execution_count": null,
      "outputs": []
    },
    {
      "cell_type": "code",
      "metadata": {
        "colab": {
          "base_uri": "https://localhost:8080/"
        },
        "id": "LqOQPDQxQ0vF",
        "outputId": "d9998e2b-1c59-4c59-c349-4c091f82db08"
      },
      "source": [
        "results = model.evaluate(Y1_train,Y2_train, batch_size=32)"
      ],
      "execution_count": null,
      "outputs": [
        {
          "output_type": "stream",
          "text": [
            "132/132 [==============================] - 7s 2ms/step - loss: 2.3038 - accuracy: 0.0674\n"
          ],
          "name": "stdout"
        }
      ]
    },
    {
      "cell_type": "code",
      "metadata": {
        "colab": {
          "base_uri": "https://localhost:8080/"
        },
        "id": "6dnzcdmgRCOr",
        "outputId": "8b1f43e6-fddd-4455-bce2-0824c52cafd3"
      },
      "source": [
        "print(\"Fit model on training data\")\r\n",
        "history = model.fit(\r\n",
        "    X1_train,\r\n",
        "    X2_train,\r\n",
        "    batch_size=32,\r\n",
        "    epochs=15,\r\n",
        "    validation_data=(Y1_train, Y2_train),\r\n",
        ")"
      ],
      "execution_count": null,
      "outputs": [
        {
          "output_type": "stream",
          "text": [
            "Fit model on training data\n",
            "Epoch 1/15\n",
            "1182/1182 [==============================] - 4s 3ms/step - loss: 0.5152 - accuracy: 0.8331 - val_loss: 0.1791 - val_accuracy: 0.9433\n",
            "Epoch 2/15\n",
            "1182/1182 [==============================] - 3s 3ms/step - loss: 0.1727 - accuracy: 0.9492 - val_loss: 0.1088 - val_accuracy: 0.9686\n",
            "Epoch 3/15\n",
            "1182/1182 [==============================] - 3s 3ms/step - loss: 0.1258 - accuracy: 0.9635 - val_loss: 0.1094 - val_accuracy: 0.9667\n",
            "Epoch 4/15\n",
            "1182/1182 [==============================] - 3s 3ms/step - loss: 0.1037 - accuracy: 0.9696 - val_loss: 0.0803 - val_accuracy: 0.9779\n",
            "Epoch 5/15\n",
            "1182/1182 [==============================] - 3s 3ms/step - loss: 0.0901 - accuracy: 0.9739 - val_loss: 0.0794 - val_accuracy: 0.9750\n",
            "Epoch 6/15\n",
            "1182/1182 [==============================] - 3s 3ms/step - loss: 0.0819 - accuracy: 0.9746 - val_loss: 0.0901 - val_accuracy: 0.9740\n",
            "Epoch 7/15\n",
            "1182/1182 [==============================] - 3s 3ms/step - loss: 0.0731 - accuracy: 0.9793 - val_loss: 0.0704 - val_accuracy: 0.9798\n",
            "Epoch 8/15\n",
            "1182/1182 [==============================] - 3s 3ms/step - loss: 0.0664 - accuracy: 0.9803 - val_loss: 0.0728 - val_accuracy: 0.9790\n",
            "Epoch 9/15\n",
            "1182/1182 [==============================] - 3s 3ms/step - loss: 0.0618 - accuracy: 0.9814 - val_loss: 0.0677 - val_accuracy: 0.9802\n",
            "Epoch 10/15\n",
            "1182/1182 [==============================] - 3s 3ms/step - loss: 0.0550 - accuracy: 0.9841 - val_loss: 0.0693 - val_accuracy: 0.9802\n",
            "Epoch 11/15\n",
            "1182/1182 [==============================] - 3s 3ms/step - loss: 0.0524 - accuracy: 0.9839 - val_loss: 0.0660 - val_accuracy: 0.9817\n",
            "Epoch 12/15\n",
            "1182/1182 [==============================] - 4s 3ms/step - loss: 0.0475 - accuracy: 0.9856 - val_loss: 0.0764 - val_accuracy: 0.9798\n",
            "Epoch 13/15\n",
            "1182/1182 [==============================] - 4s 3ms/step - loss: 0.0429 - accuracy: 0.9868 - val_loss: 0.0793 - val_accuracy: 0.9802\n",
            "Epoch 14/15\n",
            "1182/1182 [==============================] - 3s 3ms/step - loss: 0.0433 - accuracy: 0.9863 - val_loss: 0.0727 - val_accuracy: 0.9788\n",
            "Epoch 15/15\n",
            "1182/1182 [==============================] - 3s 3ms/step - loss: 0.0395 - accuracy: 0.9878 - val_loss: 0.0692 - val_accuracy: 0.9831\n"
          ],
          "name": "stdout"
        }
      ]
    },
    {
      "cell_type": "code",
      "metadata": {
        "colab": {
          "base_uri": "https://localhost:8080/",
          "height": 563
        },
        "id": "QyyHdhpQRj_M",
        "outputId": "ca61f500-2a62-4015-b561-f8f9a1e01eb3"
      },
      "source": [
        "%matplotlib inline\r\n",
        "\r\n",
        "import matplotlib.image  as mpimg\r\n",
        "import matplotlib.pyplot as plt\r\n",
        "\r\n",
        "#-----------------------------------------------------------\r\n",
        "# Retrieve a list of list results on training and test data\r\n",
        "# sets for each training epoch\r\n",
        "#-----------------------------------------------------------\r\n",
        "acc=history.history['accuracy']\r\n",
        "val_acc=history.history['val_accuracy']\r\n",
        "loss=history.history['loss']\r\n",
        "val_loss=history.history['val_loss']\r\n",
        "\r\n",
        "epochs=range(len(acc)) # Get number of epochs\r\n",
        "\r\n",
        "#------------------------------------------------\r\n",
        "# Plot training and validation accuracy per epoch\r\n",
        "#------------------------------------------------\r\n",
        "plt.plot(epochs, acc, 'r', \"Training Accuracy\")\r\n",
        "plt.plot(epochs, val_acc, 'b', \"Validation Accuracy\")\r\n",
        "plt.title('Training and validation accuracy')\r\n",
        "plt.figure()\r\n",
        "\r\n",
        "#------------------------------------------------\r\n",
        "# Plot training and validation loss per epoch\r\n",
        "#------------------------------------------------\r\n",
        "plt.plot(epochs, loss, 'r', \"Training Loss\")\r\n",
        "plt.plot(epochs, val_loss, 'b', \"Validation Loss\")\r\n",
        "plt.figure()\r\n",
        "\r\n",
        "\r\n",
        "# Desired output. Charts with training and validation metrics. No crash :)"
      ],
      "execution_count": null,
      "outputs": [
        {
          "output_type": "execute_result",
          "data": {
            "text/plain": [
              "<Figure size 432x288 with 0 Axes>"
            ]
          },
          "metadata": {
            "tags": []
          },
          "execution_count": 15
        },
        {
          "output_type": "display_data",
          "data": {
            "image/png": "[encoded data removed]",
            "text/plain": [
              "<Figure size 432x288 with 1 Axes>"
            ]
          },
          "metadata": {
            "tags": [],
            "needs_background": "light"
          }
        },
        {
          "output_type": "display_data",
          "data": {
            "image/png": "[encoded data removed]",
            "text/plain": [
              "<Figure size 432x288 with 1 Axes>"
            ]
          },
          "metadata": {
            "tags": [],
            "needs_background": "light"
          }
        },
        {
          "output_type": "display_data",
          "data": {
            "text/plain": [
              "<Figure size 432x288 with 0 Axes>"
            ]
          },
          "metadata": {
            "tags": []
          }
        }
      ]
    },
    {
      "cell_type": "code",
      "metadata": {
        "colab": {
          "base_uri": "https://localhost:8080/"
        },
        "id": "HPLKvJ1kwmr8",
        "outputId": "655d1bc5-cdcb-486d-b039-43340722b38e"
      },
      "source": [
        "predicted_classes = model.predict_classes(test_data)\r\n",
        "submissions=pd.DataFrame({\"ImageId\": list(range(1,len(predicted_classes)+1)),\r\n",
        "                         \"Label\": predicted_classes})\r\n",
        "submissions.to_csv(\"submission.csv\", index=False, header=True)"
      ],
      "execution_count": null,
      "outputs": [
        {
          "output_type": "stream",
          "text": [
            "/usr/local/lib/python3.6/dist-packages/tensorflow/python/keras/engine/sequential.py:450: UserWarning: `model.predict_classes()` is deprecated and will be removed after 2021-01-01. Please use instead:* `np.argmax(model.predict(x), axis=-1)`,   if your model does multi-class classification   (e.g. if it uses a `softmax` last-layer activation).* `(model.predict(x) > 0.5).astype(\"int32\")`,   if your model does binary classification   (e.g. if it uses a `sigmoid` last-layer activation).\n",
            "  warnings.warn('`model.predict_classes()` is deprecated and '\n"
          ],
          "name": "stderr"
        }
      ]
    },
    {
      "cell_type": "code",
      "metadata": {
        "id": "kp5FLzDHwor_"
      },
      "source": [
        "#Kills google collab instance\r\n",
        "import os, signal\r\n",
        "os.kill(os.getpid(), signal.SIGKILL)"
      ],
      "execution_count": null,
      "outputs": []
    }
  ]
}